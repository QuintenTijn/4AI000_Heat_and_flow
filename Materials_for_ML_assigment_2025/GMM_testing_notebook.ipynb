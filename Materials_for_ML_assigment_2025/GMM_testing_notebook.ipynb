{
 "cells": [
  {
   "cell_type": "markdown",
   "id": "8dded90a",
   "metadata": {},
   "source": [
    "# GM_diatomic_A code"
   ]
  },
  {
   "cell_type": "code",
   "execution_count": null,
   "id": "1f2e0e00",
   "metadata": {},
   "outputs": [
    {
     "name": "stdout",
     "output_type": "stream",
     "text": [
      "Data files found: ['Data_H2_assignment_A\\\\H2_Vel_MD_Sw_0_B300_Th_300.txt', 'Data_H2_assignment_A\\\\H2_Vel_MD_Sw_0_B300_Th_500.txt', 'Data_H2_assignment_A\\\\H2_Vel_MD_Sw_0_T500_Tb_300.txt']\n",
      "Generating Representation\n"
     ]
    },
    {
     "name": "stderr",
     "output_type": "stream",
     "text": [
      "0% [#####                         ] 100% | ETA: 00:00:00"
     ]
    },
    {
     "name": "stdout",
     "output_type": "stream",
     "text": [
      "Not a float\n"
     ]
    },
    {
     "name": "stderr",
     "output_type": "stream",
     "text": [
      "0% [##############################] 100% | ETA: 00:00:00\n",
      "Total time elapsed: 00:00:00\n"
     ]
    },
    {
     "name": "stdout",
     "output_type": "stream",
     "text": [
      "Atomic mass for H2 molecule is 2.0160 \n",
      "\n",
      "Number of MD tr velocity data points: 123351 \n",
      "\n",
      "Generating Representation\n"
     ]
    },
    {
     "name": "stderr",
     "output_type": "stream",
     "text": [
      "0% [###                           ] 100% | ETA: 00:00:01"
     ]
    },
    {
     "name": "stdout",
     "output_type": "stream",
     "text": [
      "Not a float\n"
     ]
    },
    {
     "name": "stderr",
     "output_type": "stream",
     "text": [
      "0% [##############################] 100% | ETA: 00:00:00\n",
      "Total time elapsed: 00:00:02\n"
     ]
    },
    {
     "name": "stdout",
     "output_type": "stream",
     "text": [
      "Atomic mass for H2 molecule is 2.0160 \n",
      "\n",
      "Number of MD tr velocity data points: 330030 \n",
      "\n",
      "Generating Representation\n"
     ]
    },
    {
     "name": "stderr",
     "output_type": "stream",
     "text": [
      "0% [###                           ] 100% | ETA: 00:00:01"
     ]
    },
    {
     "name": "stdout",
     "output_type": "stream",
     "text": [
      "Not a float\n"
     ]
    },
    {
     "name": "stderr",
     "output_type": "stream",
     "text": [
      "0% [##############################] 100% | ETA: 00:00:00\n",
      "Total time elapsed: 00:00:02\n"
     ]
    },
    {
     "name": "stdout",
     "output_type": "stream",
     "text": [
      "Atomic mass for H2 molecule is 2.0160 \n",
      "\n",
      "Number of MD tr velocity data points: 325627 \n",
      "\n"
     ]
    }
   ],
   "source": [
    "import os\n",
    "import numpy as np\n",
    "from scipy.special import erf, erfinv\n",
    "#from math import erf\n",
    "from numpy.linalg import norm\n",
    "from mlmm import VelocityData, plot_learn_curve, n_fold_cv, fileinfo,VelocityDataOmegaData, OmegaData\n",
    "\n",
    "import matplotlib.pyplot as plt\n",
    "\n",
    "from datetime import date\n",
    "today = date.today().strftime(\"%b-%d-%Y\")\n",
    "import periodictable\n",
    "\n",
    "import sys\n",
    "from mlmm import func_postprocess\n",
    "import time\n",
    "\n",
    "\n",
    "\n",
    "er_type = 'MAE'\n",
    "\n",
    "system_6D = True # Assignment A uses 6D data since we are using only the translational velocity data\n",
    "system_10D = False\n",
    "system_omega = False # Set to false, since we are not using angular velocity data in this assignment\n",
    "wall_temp = 300\n",
    "Liao_Transfer_Function = True\n",
    "\n",
    "kB,conv_v,conv_omega,av_num = 1.38064852e-23,1.0e2,1.0e12,6.022e23\n",
    "\n",
    "\n",
    "\n",
    "\n",
    "x_data = [\n",
    "          ]\n",
    "y_data = [\n",
    "          ]\n",
    "\n",
    "x_omega = []\n",
    "y_omega = []\n",
    "\n",
    "x_MD = []\n",
    "y_MD = []\n",
    "\n",
    "# Path to the data files for Task 1\n",
    "# Materials_for_ML_assignment\\H2_IsoThermalWalls_Sw_0\\H2_Vel_MD_Sw_0_B300_Th_300.txt  \n",
    "# Materials_for_ML_assignment\\H2_NonIsoThermalWalls_Sw_0\\H2_Vel_MD_Sw_0_T500_Tb_300.txt  \n",
    "# Materials_for_ML_assignment\\H2_NonIsoThermalWalls_Sw_0\\H2_Vel_MD_Sw_0_B300_Th_500.txt\n",
    "\n",
    "path_to_data = 'Data_H2_assignment_A'\n",
    "path_save_data='./'+path_to_data\n",
    "#path_to_data = 'Shahin/test_data/'\n",
    "\n",
    "\n",
    "\n",
    "for file in os.listdir(path_to_data):\n",
    "\n",
    "    if file.endswith(\".txt\") and \"MD\" in file:\n",
    "        x_MD.append(os.path.join(path_to_data,file))\n",
    "        y_MD.append('')\n",
    "\n",
    "    if file.endswith(\".txt\") and \"omega\" in file:\n",
    "        x_omega.append(os.path.join(path_to_data,file))\n",
    "        y_omega.append('')\n",
    "print(\"Data files found:\",x_MD)\n",
    "\n",
    "\n",
    "######################################################################################\n",
    "#------------------------------- Getting translational velocity data\n",
    "####--------------------------------------------------------------------------------------------------\n",
    "for x_data_file,y_data_file in zip(x_MD,y_MD):\n",
    "    \n",
    "\n",
    "    conf = VelocityData(x_data_file, frames=None)#[0,30000])\n",
    "    conf.getRep(rep='vxvyvz',nuc=None) #rep options: vxvyvz, vel2norm, vx2,vy2,vz2,vx,vy,vz\n",
    "    file_name=x_data_file.replace('.','/')\n",
    "    file_name=file_name.split('/')\n",
    "    set_name = file_name[1]\n",
    "    X = conf.X\n",
    "    y = conf.y\n",
    "    if \"He\" in path_to_data:\n",
    "        mass = getattr(periodictable,'He').mass\n",
    "        gas_name = 'He'\n",
    "    elif \"Ar\" in path_to_data:\n",
    "        mass = getattr(periodictable,'Ar').mass\n",
    "        gas_name = 'Ar'\n",
    "    elif \"H2\" in path_to_data:\n",
    "        mass =2* getattr(periodictable,'H').mass\n",
    "        gas_name = 'H2'\n",
    "        l_b=0.741e-10\n",
    "        mass_kg = mass * 0.001 / av_num\n",
    "        I=(mass_kg/4)*l_b**2\n",
    "    elif \"N2\" in path_to_data:\n",
    "        mass =2* getattr(periodictable,'N').mass\n",
    "        gas_name = 'N2'\n",
    "        l_b=1.097e-10\n",
    "        mass_kg = mass * 0.001 / av_num\n",
    "        I=(mass_kg/4)*l_b**2\n",
    "    else:\n",
    "        print (\"Unable to identify impinging atom type...\")\n",
    "        ele = str(input(\"Enter the impinging atom symbol : \"))\n",
    "        mass = getattr(periodictable,ele).mass\n",
    "        v_mp = np.sqrt(2 * kB * wall_temp / mass_kg)\n",
    "        omega_mp = np.sqrt(2 * kB * wall_temp / I)\n",
    "    print ('Atomic mass for {} molecule is {:1.4f} \\n'.format(gas_name,mass))\n",
    "    n_MD = X.shape[0]\n",
    "    print('Number of MD tr velocity data points: {} \\n'.format(n_MD))\n",
    "    # Implementing Liao Transfer function on perpendicular velocity component\n",
    "    v_TF,T_in,T_out,theta_in,theta_out=func_postprocess.liao_transform(X,mass,'y')\n",
    "\n",
    "\n",
    "######################################################################################\n",
    "#------------------------------- Getting angular velocity data\n",
    "####--------------------------------------------------------------------------------------------------\n",
    "if system_omega:\n",
    "    for x_data_file2,y_data_file2 in zip(x_omega,y_omega):\n",
    "        #conf2 = OmegaData(x_data_file2, frames=frames)#[0,30000])\n",
    "        conf2 = OmegaData(x_data_file2, frames=None)#[0,30000])\n",
    "        conf2.getRep(rep='omega1omega2',nuc=None) #rep options: vxvyvz, vel2norm, vx2,vy2,vz2,vx,vy,vz\n",
    "        omega_file_name = x_data_file2.replace('.','/')\n",
    "        omega_file_name = omega_file_name.split('/')\n",
    "        omega_name = omega_file_name[1]\n",
    "        print(omega_name)\n",
    "        X2 = conf2.X2\n",
    "        y2 = conf2.y2\n",
    "        print('Number of MD rot velocity data points: {} \\n'.format(X2.shape[0]))\n",
    "        X2_TF=np.copy(X2)\n",
    "        Y2_TF=np.copy(y2)\n",
    "        omega_TF=np.vstack((X2_TF,-X2_TF))\n",
    "        y2_TF=np.hstack((Y2_TF,-Y2_TF))   \n",
    "\n",
    "######################################################################################\n",
    "#------------------------------- Implementing GM model on 10D data\n",
    "####--------------------------------------------------------------------------------------------------                   \n",
    "\n",
    "if system_10D:\n",
    "    vel_tr = np.copy(X)\n",
    "    vel_tr[:,1]=np.abs(vel_tr[:,1])\n",
    "    vel_tr[:,4]=np.abs(vel_tr[:,4])\n",
    "    data_for_AC_MD = np.concatenate((vel_tr,X2),axis=1)\n",
    "\n",
    "    \n",
    "    if Liao_Transfer_Function:\n",
    "        #omega_bond = np.copy(X2)\n",
    "        v_tr=np.copy(v_TF[:n_MD,:])\n",
    "        v_omega = np.copy(X2)\n",
    "        v_mp = np.sqrt(2 * kB * wall_temp / mass_kg)\n",
    "        omega_mp = np.sqrt(2 * kB * wall_temp / I)\n",
    "        #--- Normalazing the translational and rotational velocities\n",
    "        data_train_10D = np.concatenate((v_tr*conv_v/v_mp,X2*conv_omega/omega_mp),axis=1)\n",
    "\n",
    "        print('The total number of training points is: {} \\n'.format(data_train_10D.shape[0]))\n",
    "        \n",
    "    else:\n",
    "        data_train_10D = data_for_AC_MD\n",
    "        print('The total number of training points is: {} \\n'.format(data_train_10D.shape[0]))"
   ]
  },
  {
   "cell_type": "markdown",
   "id": "c2e982c1",
   "metadata": {},
   "source": [
    "# Create Gaussian Mixture Model"
   ]
  },
  {
   "cell_type": "markdown",
   "id": "50bab3af",
   "metadata": {},
   "source": [
    "### Analyze the data"
   ]
  },
  {
   "cell_type": "code",
   "execution_count": null,
   "id": "feebb408",
   "metadata": {},
   "outputs": [
    {
     "data": {
      "text/plain": [
       "array([[-31.2545   , -15.562605 ,  -9.2067935],\n",
       "       [-11.766105 ,  -3.531    ,  -7.019935 ],\n",
       "       [ 20.90223  , -18.65115  ,  -8.93065  ],\n",
       "       ...,\n",
       "       [  4.3386   , -15.75815  ,  22.0089   ],\n",
       "       [ -1.46443  , -29.81665  , -11.71243  ],\n",
       "       [ -4.62197  , -34.0522   ,  -6.892815 ]])"
      ]
     },
     "execution_count": 15,
     "metadata": {},
     "output_type": "execute_result"
    }
   ],
   "source": [
    "X_in = np.copy(X[:,:3])\n",
    "X_out = np.copy(X[:,3:])"
   ]
  }
 ],
 "metadata": {
  "kernelspec": {
   "display_name": "tensorflow_env",
   "language": "python",
   "name": "python3"
  },
  "language_info": {
   "codemirror_mode": {
    "name": "ipython",
    "version": 3
   },
   "file_extension": ".py",
   "mimetype": "text/x-python",
   "name": "python",
   "nbconvert_exporter": "python",
   "pygments_lexer": "ipython3",
   "version": "3.10.13"
  }
 },
 "nbformat": 4,
 "nbformat_minor": 5
}
